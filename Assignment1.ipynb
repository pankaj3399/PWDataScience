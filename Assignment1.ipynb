{
 "cells": [
  {
   "cell_type": "code",
   "execution_count": 1,
   "id": "4c48612a-385f-42df-9797-9084e4852d71",
   "metadata": {},
   "outputs": [],
   "source": [
    "strVariable = 'pankaj'"
   ]
  },
  {
   "cell_type": "code",
   "execution_count": 2,
   "id": "5828f668-c747-4e55-b71a-85a14771d841",
   "metadata": {},
   "outputs": [
    {
     "data": {
      "text/plain": [
       "'pankaj'"
      ]
     },
     "execution_count": 2,
     "metadata": {},
     "output_type": "execute_result"
    }
   ],
   "source": [
    "strVariable"
   ]
  },
  {
   "cell_type": "code",
   "execution_count": 3,
   "id": "6f87e5d3-b9d4-4eea-95f4-0dc39a3fd008",
   "metadata": {},
   "outputs": [],
   "source": [
    "listVariable = [1,2,3]"
   ]
  },
  {
   "cell_type": "code",
   "execution_count": 4,
   "id": "d81be371-b550-402a-9dba-bfd2b2afc623",
   "metadata": {},
   "outputs": [
    {
     "data": {
      "text/plain": [
       "[1, 2, 3]"
      ]
     },
     "execution_count": 4,
     "metadata": {},
     "output_type": "execute_result"
    }
   ],
   "source": [
    "listVariable"
   ]
  },
  {
   "cell_type": "code",
   "execution_count": 5,
   "id": "d4d52cf1-6610-4849-8030-e46c5b691391",
   "metadata": {},
   "outputs": [],
   "source": [
    "floatVariable= 32.43"
   ]
  },
  {
   "cell_type": "code",
   "execution_count": 6,
   "id": "97b2f170-921e-4662-9033-c62b712575c4",
   "metadata": {},
   "outputs": [
    {
     "data": {
      "text/plain": [
       "32.43"
      ]
     },
     "execution_count": 6,
     "metadata": {},
     "output_type": "execute_result"
    }
   ],
   "source": [
    "floatVariable"
   ]
  },
  {
   "cell_type": "code",
   "execution_count": 7,
   "id": "e0136f25-2d39-4df1-9806-730d0bbe3dcf",
   "metadata": {},
   "outputs": [],
   "source": [
    "tupleVariable = (1,2)"
   ]
  },
  {
   "cell_type": "code",
   "execution_count": 8,
   "id": "76256a7c-b0f7-4e90-b5c9-c40983ba2501",
   "metadata": {},
   "outputs": [
    {
     "data": {
      "text/plain": [
       "(1, 2)"
      ]
     },
     "execution_count": 8,
     "metadata": {},
     "output_type": "execute_result"
    }
   ],
   "source": [
    "tupleVariable"
   ]
  },
  {
   "cell_type": "code",
   "execution_count": 9,
   "id": "e2d18396-92c9-4164-be4a-539d23574bec",
   "metadata": {},
   "outputs": [
    {
     "data": {
      "text/plain": [
       "tuple"
      ]
     },
     "execution_count": 9,
     "metadata": {},
     "output_type": "execute_result"
    }
   ],
   "source": [
    "type(tupleVariable)"
   ]
  },
  {
   "cell_type": "code",
   "execution_count": 13,
   "id": "6cb90803-055d-4d1c-91b3-4667246fbf19",
   "metadata": {},
   "outputs": [],
   "source": [
    "var1 = '' # str"
   ]
  },
  {
   "cell_type": "code",
   "execution_count": 11,
   "id": "8505514a-ee9b-4de5-98f4-7c9d69731514",
   "metadata": {},
   "outputs": [
    {
     "data": {
      "text/plain": [
       "str"
      ]
     },
     "execution_count": 11,
     "metadata": {},
     "output_type": "execute_result"
    }
   ],
   "source": [
    "type(var1)"
   ]
  },
  {
   "cell_type": "code",
   "execution_count": 14,
   "id": "725a163b-83f0-4d9b-87b3-520a5486c426",
   "metadata": {},
   "outputs": [],
   "source": [
    "var2 = '[ DS , ML , Python]' #str"
   ]
  },
  {
   "cell_type": "code",
   "execution_count": 15,
   "id": "e9f5b847-beb6-4eff-9f6b-911814ac4168",
   "metadata": {},
   "outputs": [
    {
     "data": {
      "text/plain": [
       "str"
      ]
     },
     "execution_count": 15,
     "metadata": {},
     "output_type": "execute_result"
    }
   ],
   "source": [
    "type(var2)"
   ]
  },
  {
   "cell_type": "code",
   "execution_count": 17,
   "id": "f46ed100-d0f7-4f82-a35a-68cadb637756",
   "metadata": {},
   "outputs": [],
   "source": [
    "var3 = [ 'DS' , 'ML' , 'Python' ] #list"
   ]
  },
  {
   "cell_type": "code",
   "execution_count": 18,
   "id": "60bb4c32-3170-4a2c-8192-cb6040861793",
   "metadata": {},
   "outputs": [
    {
     "data": {
      "text/plain": [
       "list"
      ]
     },
     "execution_count": 18,
     "metadata": {},
     "output_type": "execute_result"
    }
   ],
   "source": [
    "type(var3)"
   ]
  },
  {
   "cell_type": "code",
   "execution_count": 19,
   "id": "8ef64d1e-84a2-4619-84b5-1f861bfc67ed",
   "metadata": {},
   "outputs": [],
   "source": [
    "var4 = 1 #int"
   ]
  },
  {
   "cell_type": "code",
   "execution_count": 20,
   "id": "7ff8ca4e-d4e1-4891-a28e-00ff45f49268",
   "metadata": {},
   "outputs": [
    {
     "data": {
      "text/plain": [
       "int"
      ]
     },
     "execution_count": 20,
     "metadata": {},
     "output_type": "execute_result"
    }
   ],
   "source": [
    "type(var4)"
   ]
  },
  {
   "cell_type": "code",
   "execution_count": 21,
   "id": "ad9f4dc1-ae28-4f58-996f-b4bc27ae5387",
   "metadata": {},
   "outputs": [
    {
     "data": {
      "text/plain": [
       "1.25"
      ]
     },
     "execution_count": 21,
     "metadata": {},
     "output_type": "execute_result"
    }
   ],
   "source": [
    "5/4 # division"
   ]
  },
  {
   "cell_type": "code",
   "execution_count": 22,
   "id": "a7168aa2-ae6e-48d9-a4f5-a1e0c89f9add",
   "metadata": {},
   "outputs": [
    {
     "data": {
      "text/plain": [
       "1"
      ]
     },
     "execution_count": 22,
     "metadata": {},
     "output_type": "execute_result"
    }
   ],
   "source": [
    "5%4 #remainder"
   ]
  },
  {
   "cell_type": "code",
   "execution_count": 23,
   "id": "9daea1b2-d891-40ed-97aa-f9ae3f9905cf",
   "metadata": {},
   "outputs": [
    {
     "data": {
      "text/plain": [
       "1"
      ]
     },
     "execution_count": 23,
     "metadata": {},
     "output_type": "execute_result"
    }
   ],
   "source": [
    "5//4 #floor or integer division"
   ]
  },
  {
   "cell_type": "code",
   "execution_count": 24,
   "id": "6997f009-4ca7-4a68-8c79-49c6ed587e7a",
   "metadata": {},
   "outputs": [
    {
     "data": {
      "text/plain": [
       "625"
      ]
     },
     "execution_count": 24,
     "metadata": {},
     "output_type": "execute_result"
    }
   ],
   "source": [
    "5**4 # power 5*5*5*5"
   ]
  },
  {
   "cell_type": "code",
   "execution_count": 26,
   "id": "d9714534-485a-466c-ad2c-96794a22915b",
   "metadata": {},
   "outputs": [
    {
     "name": "stdout",
     "output_type": "stream",
     "text": [
      "1 <class 'int'>\n",
      "2 <class 'int'>\n",
      "3 <class 'int'>\n",
      "a <class 'str'>\n",
      "(1, 2) <class 'tuple'>\n",
      "23.3 <class 'float'>\n",
      "[1, 2] <class 'list'>\n",
      "False <class 'bool'>\n",
      "(5+4j) <class 'complex'>\n",
      "{'amount': 75} <class 'dict'>\n"
     ]
    }
   ],
   "source": [
    "listOf10 = [1,2,3,'a',(1,2), 23.3, [1,2],False,5+4j, {'amount': 75}]\n",
    "for i in listOf10:\n",
    "    print(i, type(i))"
   ]
  },
  {
   "cell_type": "code",
   "execution_count": 28,
   "id": "946277b9-37b3-4e83-b5cb-53456913f7e4",
   "metadata": {},
   "outputs": [
    {
     "name": "stdout",
     "output_type": "stream",
     "text": [
      "a is divisible by b. a/b ==> 5\n"
     ]
    }
   ],
   "source": [
    "# Q5 Using a while loop, verify if the number A is purely divisible by number B and if so then how many times it can be divisible.\n",
    "a = 10\n",
    "b = 2\n",
    "cnt = 0\n",
    "while(a>0):\n",
    "    a=a-b\n",
    "    cnt+=1\n",
    "if(a==0):\n",
    "    print('a is divisible by b. a/b ==>', cnt)\n",
    "else: \n",
    "    print('a is not divisible by b')"
   ]
  },
  {
   "cell_type": "code",
   "execution_count": 33,
   "id": "e4e04a0a-3d5a-44e6-a537-12d8bc49f8c6",
   "metadata": {},
   "outputs": [
    {
     "name": "stdout",
     "output_type": "stream",
     "text": [
      "1 is not divisible by 3\n",
      "2 is not divisible by 3\n",
      "3 is divisible by 3\n",
      "4 is not divisible by 3\n",
      "5 is not divisible by 3\n",
      "6 is divisible by 3\n",
      "7 is not divisible by 3\n",
      "8 is not divisible by 3\n",
      "9 is divisible by 3\n",
      "10 is not divisible by 3\n",
      "11 is not divisible by 3\n",
      "12 is divisible by 3\n",
      "13 is not divisible by 3\n",
      "14 is not divisible by 3\n",
      "15 is divisible by 3\n",
      "16 is not divisible by 3\n",
      "17 is not divisible by 3\n",
      "18 is divisible by 3\n",
      "19 is not divisible by 3\n",
      "20 is not divisible by 3\n",
      "21 is divisible by 3\n",
      "22 is not divisible by 3\n",
      "23 is not divisible by 3\n",
      "24 is divisible by 3\n",
      "25 is not divisible by 3\n"
     ]
    }
   ],
   "source": [
    "#Q6 Create a list containing 25 int type data. Using for loop and if-else condition print if the element is divisible by 3 or not.\n",
    "listOf25 = list(range(1,26))\n",
    "for i in listOf25:\n",
    "    if(i%3==0):\n",
    "        print(i,'is divisible by 3')\n",
    "    else:\n",
    "        print(i,'is not divisible by 3')"
   ]
  },
  {
   "cell_type": "code",
   "execution_count": 35,
   "id": "657300fb-8b67-47fc-b11b-2241f8d84fcd",
   "metadata": {},
   "outputs": [
    {
     "data": {
      "text/plain": [
       "[1, 4, 3]"
      ]
     },
     "execution_count": 35,
     "metadata": {},
     "output_type": "execute_result"
    }
   ],
   "source": [
    "#Q7 What do you understand about mutable and immutable data types? Give examples for both showing this property.\n",
    "mutableDataType = [1,2,3]\n",
    "mutableDataType[1] = 4; # no error, this is alowed\n",
    "mutableDataType"
   ]
  },
  {
   "cell_type": "code",
   "execution_count": 37,
   "id": "25ea8230-6fab-40d7-91c0-0aa3c0170952",
   "metadata": {},
   "outputs": [
    {
     "data": {
      "text/plain": [
       "'pankaj'"
      ]
     },
     "execution_count": 37,
     "metadata": {},
     "output_type": "execute_result"
    }
   ],
   "source": [
    "immutableDataType = 'pankaj'\n",
    "#immutableDataType[1] = 'b'; # error, this is not alowed\n",
    "immutableDataType"
   ]
  },
  {
   "cell_type": "code",
   "execution_count": null,
   "id": "60bdb8ff-8fe4-4470-8ee6-41f30a1afb29",
   "metadata": {},
   "outputs": [],
   "source": []
  }
 ],
 "metadata": {
  "kernelspec": {
   "display_name": "Python 3 (ipykernel)",
   "language": "python",
   "name": "python3"
  },
  "language_info": {
   "codemirror_mode": {
    "name": "ipython",
    "version": 3
   },
   "file_extension": ".py",
   "mimetype": "text/x-python",
   "name": "python",
   "nbconvert_exporter": "python",
   "pygments_lexer": "ipython3",
   "version": "3.10.8"
  }
 },
 "nbformat": 4,
 "nbformat_minor": 5
}
