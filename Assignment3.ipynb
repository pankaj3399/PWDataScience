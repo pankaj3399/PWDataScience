{
 "cells": [
  {
   "cell_type": "code",
   "execution_count": 1,
   "id": "ac140535-1e04-424a-a770-798f62114001",
   "metadata": {},
   "outputs": [],
   "source": [
    "#Q1 Which keyword is used to create a function? Create a function to return a list of odd numbers in the range of 1 to 25."
   ]
  },
  {
   "cell_type": "code",
   "execution_count": 2,
   "id": "6222acbe-80b0-46a9-9707-5f1592de28fb",
   "metadata": {},
   "outputs": [],
   "source": [
    "# def keyword in python is used to create a function."
   ]
  },
  {
   "cell_type": "code",
   "execution_count": 5,
   "id": "9882cc4c-33ef-40f9-b54b-68982bce3c76",
   "metadata": {},
   "outputs": [
    {
     "data": {
      "text/plain": [
       "[1, 3, 5, 7, 9, 11, 13, 15, 17, 19, 21, 23, 25]"
      ]
     },
     "execution_count": 5,
     "metadata": {},
     "output_type": "execute_result"
    }
   ],
   "source": [
    "list(filter(lambda x: x%2 != 0 , range(1,26)))"
   ]
  },
  {
   "cell_type": "code",
   "execution_count": 4,
   "id": "f59a7422-041d-4bd2-9dc5-7fcb3c0bd2ae",
   "metadata": {},
   "outputs": [],
   "source": [
    "#Q2 Why *args and **kwargs is used in some functions? Create a function each for *args and **kwargs to demonstrate their use."
   ]
  },
  {
   "cell_type": "code",
   "execution_count": 13,
   "id": "4a4690c8-8d93-4362-abbd-7e8587c1b095",
   "metadata": {},
   "outputs": [],
   "source": [
    "# *args allows you to pass as many arguments as you want in the function.\n",
    "# **kwargs allows you to pass as many arguments as needed, and convert them to a dictionary"
   ]
  },
  {
   "cell_type": "code",
   "execution_count": 14,
   "id": "3fd15ff2-80f2-4a97-a2bc-e9b13afdfe72",
   "metadata": {},
   "outputs": [
    {
     "name": "stdout",
     "output_type": "stream",
     "text": [
      "(2, 3, 4, 5)\n"
     ]
    }
   ],
   "source": [
    "def test1(*args):\n",
    "    return args\n",
    "\n",
    "print(test1(2,3,4,5))"
   ]
  },
  {
   "cell_type": "code",
   "execution_count": 15,
   "id": "c29bcd7a-ccfe-4286-be9b-7395e9b57f46",
   "metadata": {},
   "outputs": [
    {
     "name": "stdout",
     "output_type": "stream",
     "text": [
      "{'a': 2, 'b': [1, 2], 'c': (1, 2)}\n"
     ]
    }
   ],
   "source": [
    " def test2(**kwargs):\n",
    "        return kwargs\n",
    "print(test2(a=2, b=[1,2], c= (1,2)))"
   ]
  },
  {
   "cell_type": "code",
   "execution_count": 16,
   "id": "200a07d0-c00e-4ecb-94b8-e11aa19526a5",
   "metadata": {},
   "outputs": [],
   "source": [
    "#Q3. What is an iterator in python? Name the method used to initialise the iterator object and the method\n",
    "# used for iteration. Use these methods to print the first five elements of the given list [2, 4, 6, 8, 10, 12, 14,\n",
    "# 16, 18, 20]."
   ]
  },
  {
   "cell_type": "code",
   "execution_count": null,
   "id": "080e7f3e-5b5a-4106-a3b0-e615928222d5",
   "metadata": {},
   "outputs": [],
   "source": [
    "\"\"\" An iterator is an object that contains a countable number of values.\n",
    "An iterator is an object that can be iterated upon, meaning that you can traverse through all the values.\n",
    "An iterator is an object which implements the iterator protocol, which consist of the methods __iter__() and __next__()\n",
    "iter is method to get an iterator \n",
    "next is method to get values from iterator\n",
    "\"\"\""
   ]
  },
  {
   "cell_type": "code",
   "execution_count": 19,
   "id": "ad88f36c-11c8-441b-8166-54f2757e3311",
   "metadata": {},
   "outputs": [
    {
     "name": "stdout",
     "output_type": "stream",
     "text": [
      "2\n",
      "4\n",
      "6\n",
      "8\n",
      "10\n"
     ]
    }
   ],
   "source": [
    "l = [2, 4, 6, 8, 10, 12, 14, 16, 18, 20]\n",
    "it = iter(l)\n",
    "print(next(it))\n",
    "print(next(it))\n",
    "print(next(it))\n",
    "print(next(it))\n",
    "print(next(it))"
   ]
  },
  {
   "cell_type": "code",
   "execution_count": 20,
   "id": "28e02fc5-66a5-4c57-95f1-cf11d85ddca3",
   "metadata": {},
   "outputs": [],
   "source": [
    "# Q4. What is a generator function in python? Why yield keyword is used? Give an example of a generator function."
   ]
  },
  {
   "cell_type": "code",
   "execution_count": 21,
   "id": "c2293ef0-1db5-4b2d-b1b8-033f6902ade8",
   "metadata": {},
   "outputs": [
    {
     "data": {
      "text/plain": [
       "' \\nThe yield keyword in Python is similar to a return statement used for returning values in Python which returns a generator object \\nto the one who calls the function which contains yield, instead of simply returning a value. \\nThe main difference between them is, the return statement terminates the execution of the function. Whereas, \\nthe yield statement only pauses the execution of the function. \\n\\n'"
      ]
     },
     "execution_count": 21,
     "metadata": {},
     "output_type": "execute_result"
    }
   ],
   "source": [
    "\"\"\" A Python generator function allows you to declare a function that behaves like an iterator, providing a faster and easier way to create iterators.\n",
    "    They can be used on an abstract container of data to turn it into an iterable object like lists, dictionaries and strings. \n",
    "\"\"\"\n",
    "\n",
    "\"\"\" \n",
    "The yield keyword in Python is similar to a return statement used for returning values in Python which returns a generator object \n",
    "to the one who calls the function which contains yield, instead of simply returning a value. \n",
    "The main difference between them is, the return statement terminates the execution of the function. Whereas, \n",
    "the yield statement only pauses the execution of the function. \n",
    "\n",
    "\"\"\""
   ]
  },
  {
   "cell_type": "code",
   "execution_count": 22,
   "id": "5470a7f0-c6bf-4a72-9186-f157fedfb6f3",
   "metadata": {},
   "outputs": [
    {
     "name": "stdout",
     "output_type": "stream",
     "text": [
      "0\n",
      "1\n",
      "1\n",
      "2\n",
      "3\n",
      "5\n",
      "8\n",
      "13\n",
      "21\n",
      "34\n"
     ]
    }
   ],
   "source": [
    "def test_fib(n):\n",
    "    a,b = 0,1\n",
    "    for i in range(n):\n",
    "        yield a\n",
    "        a,b = b,a+b\n",
    "for i in test_fib(10):\n",
    "    print(i)"
   ]
  },
  {
   "cell_type": "code",
   "execution_count": 23,
   "id": "bfa14cc6-27bb-4e95-95ad-e5742959a8c1",
   "metadata": {},
   "outputs": [],
   "source": [
    "#Q5. Create a generator function for prime numbers less than 1000. Use the next() method to print the first 20 prime numbers."
   ]
  },
  {
   "cell_type": "code",
   "execution_count": 37,
   "id": "0ec9ba89-33b3-4465-b116-eae68abac27c",
   "metadata": {},
   "outputs": [],
   "source": [
    "def isPrime(num):\n",
    "    isdivisible = False\n",
    "    if(num ==0 or num ==1):\n",
    "        return False\n",
    "    for i in range(2,num//2 +1):\n",
    "        if(num%i == 0):\n",
    "            isdivisible = True\n",
    "            break;\n",
    "    return not isdivisible\n",
    "\n",
    "def generatePrimeNumbers():\n",
    "    for i in range(1000):\n",
    "        if(isPrime(i)):\n",
    "            yield i"
   ]
  },
  {
   "cell_type": "code",
   "execution_count": 43,
   "id": "d4d7c74c-3ff7-4c2b-bdb8-5c661334d198",
   "metadata": {},
   "outputs": [
    {
     "name": "stdout",
     "output_type": "stream",
     "text": [
      "2\n",
      "3\n",
      "5\n",
      "7\n",
      "11\n",
      "13\n",
      "17\n",
      "19\n",
      "23\n",
      "29\n",
      "31\n",
      "37\n",
      "41\n",
      "43\n",
      "47\n",
      "53\n",
      "59\n",
      "61\n",
      "67\n",
      "71\n"
     ]
    }
   ],
   "source": [
    "obj = generatePrimeNumbers()\n",
    "for i in range(20):\n",
    "    print(next(obj))"
   ]
  },
  {
   "cell_type": "code",
   "execution_count": 44,
   "id": "780ae053-adc1-43b4-932c-ce74496c7717",
   "metadata": {},
   "outputs": [],
   "source": [
    "# Q6. Write a python program to print the first 10 Fibonacci numbers using a while loop."
   ]
  },
  {
   "cell_type": "code",
   "execution_count": 46,
   "id": "9552f0ad-c4b1-4fd2-a51f-bffb337c915d",
   "metadata": {},
   "outputs": [
    {
     "name": "stdout",
     "output_type": "stream",
     "text": [
      "0\n",
      "1\n",
      "1\n",
      "2\n",
      "3\n",
      "5\n",
      "8\n",
      "13\n",
      "21\n",
      "34\n"
     ]
    }
   ],
   "source": [
    "a = 0\n",
    "b= 1\n",
    "i=0\n",
    "while(i<10):\n",
    "    i+=1\n",
    "    print(a)\n",
    "    c= b\n",
    "    b = a + b\n",
    "    a = c"
   ]
  },
  {
   "cell_type": "code",
   "execution_count": 47,
   "id": "0a166309-4a3d-49b6-8e54-7e249009fc14",
   "metadata": {},
   "outputs": [],
   "source": [
    "# Q7. Write a List Comprehension to iterate through the given string: ‘pwskills’. Expected output: ['p', 'w', 's', 'k', 'i', 'l', 'l', 's']"
   ]
  },
  {
   "cell_type": "code",
   "execution_count": 48,
   "id": "da64c179-c62f-462f-8af2-98c11cb97b4e",
   "metadata": {},
   "outputs": [],
   "source": [
    "s  = 'pwskills'"
   ]
  },
  {
   "cell_type": "code",
   "execution_count": 49,
   "id": "c8507b0b-48fe-4cb7-9e51-4c491da429c0",
   "metadata": {},
   "outputs": [],
   "source": [
    "l = [x for x in s]"
   ]
  },
  {
   "cell_type": "code",
   "execution_count": 50,
   "id": "523bff1f-fb24-4137-acac-66de4365b52c",
   "metadata": {},
   "outputs": [
    {
     "data": {
      "text/plain": [
       "['p', 'w', 's', 'k', 'i', 'l', 'l', 's']"
      ]
     },
     "execution_count": 50,
     "metadata": {},
     "output_type": "execute_result"
    }
   ],
   "source": [
    "l"
   ]
  },
  {
   "cell_type": "code",
   "execution_count": 51,
   "id": "b97f2149-4777-4241-9ee8-f24549411ff0",
   "metadata": {},
   "outputs": [],
   "source": [
    "# Q8. Write a python program to check whether a given number is Palindrome or not using a while loop."
   ]
  },
  {
   "cell_type": "code",
   "execution_count": 55,
   "id": "0de56d13-624e-49c2-beec-5b122532c9a8",
   "metadata": {},
   "outputs": [
    {
     "name": "stdout",
     "output_type": "stream",
     "text": [
      "True\n"
     ]
    }
   ],
   "source": [
    "s = 'naman'\n",
    "i=0\n",
    "j=len(s)-1\n",
    "isPalindrome = True\n",
    "while(i<j):\n",
    "    if(s[i]!=s[j]):\n",
    "        isPalindrome = False\n",
    "        break\n",
    "    i+=1\n",
    "    j-=1\n",
    "print(isPalindrome)\n",
    "        "
   ]
  },
  {
   "cell_type": "code",
   "execution_count": 56,
   "id": "a336c04a-16bd-497a-a2d3-dcb0a062ff26",
   "metadata": {},
   "outputs": [],
   "source": [
    "# Q9. Write a code to print odd numbers from 1 to 100 using list comprehension."
   ]
  },
  {
   "cell_type": "code",
   "execution_count": 57,
   "id": "83867d5e-34a3-43f8-9cf1-da7e1554f5f6",
   "metadata": {},
   "outputs": [],
   "source": [
    "l = [x for x in range(1,101)]"
   ]
  },
  {
   "cell_type": "code",
   "execution_count": 59,
   "id": "04ecd70f-9997-445d-87be-b4d3ff8d778e",
   "metadata": {},
   "outputs": [],
   "source": [
    "l1 = [x for x in l if x % 2 != 0]"
   ]
  },
  {
   "cell_type": "code",
   "execution_count": 60,
   "id": "ac560d3b-1d5d-4947-8a5e-019673f1123c",
   "metadata": {},
   "outputs": [
    {
     "data": {
      "text/plain": [
       "[1,\n",
       " 3,\n",
       " 5,\n",
       " 7,\n",
       " 9,\n",
       " 11,\n",
       " 13,\n",
       " 15,\n",
       " 17,\n",
       " 19,\n",
       " 21,\n",
       " 23,\n",
       " 25,\n",
       " 27,\n",
       " 29,\n",
       " 31,\n",
       " 33,\n",
       " 35,\n",
       " 37,\n",
       " 39,\n",
       " 41,\n",
       " 43,\n",
       " 45,\n",
       " 47,\n",
       " 49,\n",
       " 51,\n",
       " 53,\n",
       " 55,\n",
       " 57,\n",
       " 59,\n",
       " 61,\n",
       " 63,\n",
       " 65,\n",
       " 67,\n",
       " 69,\n",
       " 71,\n",
       " 73,\n",
       " 75,\n",
       " 77,\n",
       " 79,\n",
       " 81,\n",
       " 83,\n",
       " 85,\n",
       " 87,\n",
       " 89,\n",
       " 91,\n",
       " 93,\n",
       " 95,\n",
       " 97,\n",
       " 99]"
      ]
     },
     "execution_count": 60,
     "metadata": {},
     "output_type": "execute_result"
    }
   ],
   "source": [
    "l1"
   ]
  },
  {
   "cell_type": "code",
   "execution_count": null,
   "id": "43172c3e-04e3-41fa-a949-4e01e0c95cd2",
   "metadata": {},
   "outputs": [],
   "source": []
  }
 ],
 "metadata": {
  "kernelspec": {
   "display_name": "Python 3 (ipykernel)",
   "language": "python",
   "name": "python3"
  },
  "language_info": {
   "codemirror_mode": {
    "name": "ipython",
    "version": 3
   },
   "file_extension": ".py",
   "mimetype": "text/x-python",
   "name": "python",
   "nbconvert_exporter": "python",
   "pygments_lexer": "ipython3",
   "version": "3.10.8"
  }
 },
 "nbformat": 4,
 "nbformat_minor": 5
}
