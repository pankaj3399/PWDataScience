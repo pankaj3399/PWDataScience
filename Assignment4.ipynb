{
 "cells": [
  {
   "cell_type": "code",
   "execution_count": 1,
   "id": "bb25c5e1-50d8-4225-867a-164d60567d6c",
   "metadata": {},
   "outputs": [],
   "source": [
    "#Q1. Create a python program to sort the given list of tuples based on integer value using a lambda function."
   ]
  },
  {
   "cell_type": "code",
   "execution_count": 2,
   "id": "dea8bee4-35b0-4a57-80ac-22d2ff3cbe11",
   "metadata": {},
   "outputs": [],
   "source": [
    "l = [('Sachin Tendulkar', 34357), ('Ricky Ponting', 27483), ('Jack Kallis', 25534), ('Virat Kohli', 24936)]"
   ]
  },
  {
   "cell_type": "code",
   "execution_count": 11,
   "id": "de5d39ec-3bc8-41ef-bf02-96ce0d041e42",
   "metadata": {},
   "outputs": [],
   "source": [
    "l.sort(key = lambda x: x[1])"
   ]
  },
  {
   "cell_type": "code",
   "execution_count": 12,
   "id": "433f8ef1-740a-4ec8-9c5c-44b81c963d1f",
   "metadata": {},
   "outputs": [
    {
     "data": {
      "text/plain": [
       "[('Virat Kohli', 24936),\n",
       " ('Jack Kallis', 25534),\n",
       " ('Ricky Ponting', 27483),\n",
       " ('Sachin Tendulkar', 34357)]"
      ]
     },
     "execution_count": 12,
     "metadata": {},
     "output_type": "execute_result"
    }
   ],
   "source": [
    "l"
   ]
  },
  {
   "cell_type": "code",
   "execution_count": 13,
   "id": "e0ff57f2-ea64-4b44-bfaa-9ac3752aef88",
   "metadata": {},
   "outputs": [],
   "source": [
    "#Q2. Write a Python Program to find the squares of all the numbers in the given list of integers using lambda and map functions."
   ]
  },
  {
   "cell_type": "code",
   "execution_count": 14,
   "id": "8df3fce6-0643-4c06-8e3c-f9926cd3c5a0",
   "metadata": {},
   "outputs": [],
   "source": [
    "l1 = [1, 2, 3, 4, 5, 6, 7, 8, 9, 10]"
   ]
  },
  {
   "cell_type": "code",
   "execution_count": 16,
   "id": "ca0cda80-7af7-4d14-81b6-df6a676e6a90",
   "metadata": {},
   "outputs": [
    {
     "data": {
      "text/plain": [
       "[1, 4, 9, 16, 25, 36, 49, 64, 81, 100]"
      ]
     },
     "execution_count": 16,
     "metadata": {},
     "output_type": "execute_result"
    }
   ],
   "source": [
    "list(map(lambda x: x*x,l1))"
   ]
  },
  {
   "cell_type": "code",
   "execution_count": 17,
   "id": "b3c59f3a-f45b-4862-af3a-621b3f9cdb2b",
   "metadata": {},
   "outputs": [],
   "source": [
    "# Q3. Write a python program to convert the given list of integers into a tuple of strings. Use map and lambda functions"
   ]
  },
  {
   "cell_type": "code",
   "execution_count": 18,
   "id": "2cfbdaad-3a56-4e9c-9c3f-faeae58d19b4",
   "metadata": {},
   "outputs": [],
   "source": [
    "l2 = [1, 2, 3, 4, 5, 6, 7, 8, 9, 10]"
   ]
  },
  {
   "cell_type": "code",
   "execution_count": 20,
   "id": "7b9de670-8384-4b8a-937e-26feb42f2793",
   "metadata": {},
   "outputs": [
    {
     "data": {
      "text/plain": [
       "('1', '2', '3', '4', '5', '6', '7', '8', '9', '10')"
      ]
     },
     "execution_count": 20,
     "metadata": {},
     "output_type": "execute_result"
    }
   ],
   "source": [
    "tuple(map(lambda x: str(x),l2))"
   ]
  },
  {
   "cell_type": "code",
   "execution_count": 21,
   "id": "57e0e018-62af-4fd2-a212-9735ffec29b3",
   "metadata": {},
   "outputs": [],
   "source": [
    "# Q4. Write a python program using reduce function to compute the product of a list containing numbers from 1 to 25."
   ]
  },
  {
   "cell_type": "code",
   "execution_count": 23,
   "id": "d4765f25-7767-4100-b0f9-3b290f1f631e",
   "metadata": {},
   "outputs": [
    {
     "data": {
      "text/plain": [
       "15511210043330985984000000"
      ]
     },
     "execution_count": 23,
     "metadata": {},
     "output_type": "execute_result"
    }
   ],
   "source": [
    "from functools import reduce\n",
    "l5 = [x for x in range(1,26)]\n",
    "reduce(lambda x,y: x*y, l5)"
   ]
  },
  {
   "cell_type": "code",
   "execution_count": 24,
   "id": "9e5f5667-af29-466e-8227-351b1dd93c7a",
   "metadata": {},
   "outputs": [],
   "source": [
    "# Q5. Write a python program to filter the numbers in a given list that are divisible by 2 and 3 using the filter function."
   ]
  },
  {
   "cell_type": "code",
   "execution_count": 25,
   "id": "bb09a5d7-82bf-44bf-87dd-117997ed02d9",
   "metadata": {},
   "outputs": [],
   "source": [
    "l6 = [2, 3, 6, 9, 27, 60, 90, 120, 55, 46]"
   ]
  },
  {
   "cell_type": "code",
   "execution_count": 28,
   "id": "c4eae5d6-5d33-4f2b-845a-f56e93145648",
   "metadata": {},
   "outputs": [
    {
     "data": {
      "text/plain": [
       "[2, 3, 6, 9, 27, 60, 90, 120, 46]"
      ]
     },
     "execution_count": 28,
     "metadata": {},
     "output_type": "execute_result"
    }
   ],
   "source": [
    "list(filter(lambda x: x%2 == 0 or x% 3==0, l6))"
   ]
  },
  {
   "cell_type": "code",
   "execution_count": 3,
   "id": "2f7de7e2-2f4e-4a7a-a9c2-3b5f8335d9e0",
   "metadata": {},
   "outputs": [],
   "source": [
    "# Q6. Write a python program to find palindromes in the given list of strings using lambda and filter function.\n",
    "l7 = ['python', 'php', 'aba', 'radar', 'level']"
   ]
  },
  {
   "cell_type": "code",
   "execution_count": 4,
   "id": "240eda85-97f1-42b4-b23b-bd2a82b2fd7b",
   "metadata": {},
   "outputs": [],
   "source": [
    "def isPalindrome(s):\n",
    "    i = 0\n",
    "    j = len(s)-1\n",
    "    ans = True\n",
    "    while(i<j):\n",
    "        if(s[i]!=s[j]):\n",
    "            ans = False\n",
    "            break\n",
    "        i+=1\n",
    "        j-=1\n",
    "    return ans"
   ]
  },
  {
   "cell_type": "code",
   "execution_count": 5,
   "id": "e089d98b-7d37-444c-a2b0-3fc0a2037bcf",
   "metadata": {},
   "outputs": [
    {
     "data": {
      "text/plain": [
       "['php', 'aba', 'radar', 'level']"
      ]
     },
     "execution_count": 5,
     "metadata": {},
     "output_type": "execute_result"
    }
   ],
   "source": [
    "list(filter(lambda x: isPalindrome(x),l7))"
   ]
  },
  {
   "cell_type": "code",
   "execution_count": null,
   "id": "8080963f-9a04-40a5-9570-b302d3ded5df",
   "metadata": {},
   "outputs": [],
   "source": []
  }
 ],
 "metadata": {
  "kernelspec": {
   "display_name": "Python 3 (ipykernel)",
   "language": "python",
   "name": "python3"
  },
  "language_info": {
   "codemirror_mode": {
    "name": "ipython",
    "version": 3
   },
   "file_extension": ".py",
   "mimetype": "text/x-python",
   "name": "python",
   "nbconvert_exporter": "python",
   "pygments_lexer": "ipython3",
   "version": "3.10.8"
  }
 },
 "nbformat": 4,
 "nbformat_minor": 5
}
