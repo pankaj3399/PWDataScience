{
 "cells": [
  {
   "cell_type": "code",
   "execution_count": 1,
   "id": "9bd1ab1e-5628-4845-84b8-47d3ed1093c6",
   "metadata": {},
   "outputs": [],
   "source": [
    "# Q1. How do you comment code in Python? What are the different types of comments?"
   ]
  },
  {
   "cell_type": "code",
   "execution_count": 6,
   "id": "abdb5e34-2616-4f11-8ff4-754d0790287a",
   "metadata": {},
   "outputs": [
    {
     "data": {
      "text/plain": [
       "'Comments in Python are the lines in the code that are ignored by the interpreter during the execution of the program. \\nThey enhance the readability of the code and help the programmers to understand the code. \\n\\nThere are three types of comments in Python:\\n\\nSingle line Comments\\nMultiline Comments\\nDocstring Comments'"
      ]
     },
     "execution_count": 6,
     "metadata": {},
     "output_type": "execute_result"
    }
   ],
   "source": [
    "\"\"\"Comments in Python are the lines in the code that are ignored by the interpreter during the execution of the program. \n",
    "They enhance the readability of the code and help the programmers to understand the code. \n",
    "\n",
    "There are three types of comments in Python:\n",
    "\n",
    "Single line Comments\n",
    "Multiline Comments\n",
    "Docstring Comments\"\"\""
   ]
  },
  {
   "cell_type": "code",
   "execution_count": 3,
   "id": "8c0013d8-6248-4a36-b8a7-d26c10082e8f",
   "metadata": {},
   "outputs": [],
   "source": [
    "# This is a single line comment , starts with a hash tag"
   ]
  },
  {
   "cell_type": "code",
   "execution_count": 4,
   "id": "0e4f55a5-9a89-4049-b331-18601ad04b66",
   "metadata": {},
   "outputs": [],
   "source": [
    "# This is a multiline comment.Each line is a single line comment\n",
    "# Line 2 of multiline comment"
   ]
  },
  {
   "cell_type": "code",
   "execution_count": 7,
   "id": "bce56f43-f99e-41e2-adcc-d3c691cad1d7",
   "metadata": {},
   "outputs": [
    {
     "data": {
      "text/plain": [
       "' Triple quotes can also be used to \\nwrite multiline comments '"
      ]
     },
     "execution_count": 7,
     "metadata": {},
     "output_type": "execute_result"
    }
   ],
   "source": [
    "\"\"\" Triple quotes can also be used to \n",
    "write multiline comments \"\"\""
   ]
  },
  {
   "cell_type": "code",
   "execution_count": 9,
   "id": "24e10f28-6cee-49db-a5c2-3dc1b992b9f4",
   "metadata": {},
   "outputs": [
    {
     "name": "stdout",
     "output_type": "stream",
     "text": [
      "Multiplies the value of a and b\n"
     ]
    }
   ],
   "source": [
    "def multiply(a, b):\n",
    "    \"\"\"Multiplies the value of a and b\"\"\"\n",
    "    return a*b\n",
    " \n",
    " \n",
    "# Print the docstring of multiply function\n",
    "print(multiply.__doc__)\n",
    "# Source : GFG"
   ]
  },
  {
   "cell_type": "code",
   "execution_count": 1,
   "id": "c92c4c77-5664-4a3d-9fac-431359d0e0d8",
   "metadata": {},
   "outputs": [],
   "source": [
    "# Q2. What are variables in Python? How do you declare and assign values to variables?"
   ]
  },
  {
   "cell_type": "code",
   "execution_count": 4,
   "id": "ab314dfb-5e94-494f-af8e-18f6d300b5ae",
   "metadata": {},
   "outputs": [
    {
     "data": {
      "text/plain": [
       "'\\nA Python variable is a symbolic name that is a reference or pointer to an object. \\nOnce an object is assigned to a variable, you can refer to the object by that name.\\nData is stored in the object. Variables are basically containers for storing data values.\\nn = 9 , it will declare a variable n with value 9 stored in it.\\n'"
      ]
     },
     "execution_count": 4,
     "metadata": {},
     "output_type": "execute_result"
    }
   ],
   "source": [
    "\"\"\"\n",
    "A Python variable is a symbolic name that is a reference or pointer to an object. \n",
    "Once an object is assigned to a variable, you can refer to the object by that name.\n",
    "Data is stored in the object. Variables are basically containers for storing data values.\n",
    "n = 9 , it will declare a variable n with value 9 stored in it.\n",
    "\"\"\""
   ]
  },
  {
   "cell_type": "code",
   "execution_count": 5,
   "id": "922797a2-1744-4bc0-b575-ad1750423cce",
   "metadata": {},
   "outputs": [],
   "source": [
    "# Q3. How do you convert one data type to another in Python?"
   ]
  },
  {
   "cell_type": "code",
   "execution_count": 6,
   "id": "e240045a-950a-40b7-bcd4-a69b73efac89",
   "metadata": {},
   "outputs": [
    {
     "data": {
      "text/plain": [
       "'To convert between types, you simply use the type name as a function. \\nThere are several built-in functions to perform conversion from one data type to another. \\nThese functions return a new object representing the converted value.\\n'"
      ]
     },
     "execution_count": 6,
     "metadata": {},
     "output_type": "execute_result"
    }
   ],
   "source": [
    "\"\"\"To convert between types, you simply use the type name as a function. \n",
    "There are several built-in functions to perform conversion from one data type to another. \n",
    "These functions return a new object representing the converted value.\n",
    "\"\"\""
   ]
  },
  {
   "cell_type": "code",
   "execution_count": 8,
   "id": "e342e4cf-f6d5-4f32-ba1a-0f3d62242d7a",
   "metadata": {},
   "outputs": [
    {
     "name": "stdout",
     "output_type": "stream",
     "text": [
      "3\n"
     ]
    }
   ],
   "source": [
    "n = '1'\n",
    "r = int(n) # converts n to integer\n",
    "print(r+2)"
   ]
  },
  {
   "cell_type": "code",
   "execution_count": 9,
   "id": "b8b5e531-c874-4899-aeb0-b93eeae245c5",
   "metadata": {},
   "outputs": [],
   "source": [
    "# Q4. How do you write and execute a Python script from the command line?"
   ]
  },
  {
   "cell_type": "code",
   "execution_count": 10,
   "id": "21871259-008a-4cc0-a357-8380c09f7f4e",
   "metadata": {},
   "outputs": [
    {
     "data": {
      "text/plain": [
       "'\\nThe most basic and easy way to run a Python script is by using the python command. \\nYou need to open a command line and type the word python followed by the path to your script file like this:\\n\\npython first_script.py\\n\\n'"
      ]
     },
     "execution_count": 10,
     "metadata": {},
     "output_type": "execute_result"
    }
   ],
   "source": [
    "\"\"\"\n",
    "The most basic and easy way to run a Python script is by using the python command. \n",
    "You need to open a command line and type the word python followed by the path to your script file like this:\n",
    "\n",
    "python first_script.py\n",
    "\n",
    "\"\"\""
   ]
  },
  {
   "cell_type": "code",
   "execution_count": 11,
   "id": "f13419b5-ecb5-4d2e-9347-dda0f757b1bd",
   "metadata": {},
   "outputs": [],
   "source": [
    "# Q5. Given a list my_list = [1, 2, 3, 4, 5], write the code to slice the list and obtain the sub-list [2, 3]."
   ]
  },
  {
   "cell_type": "code",
   "execution_count": 12,
   "id": "c686a870-1569-48e5-a5aa-64a54350c4b4",
   "metadata": {},
   "outputs": [
    {
     "data": {
      "text/plain": [
       "[2, 3]"
      ]
     },
     "execution_count": 12,
     "metadata": {},
     "output_type": "execute_result"
    }
   ],
   "source": [
    "my_list = [1, 2, 3, 4, 5]\n",
    "my_list[1:3]"
   ]
  },
  {
   "cell_type": "code",
   "execution_count": 13,
   "id": "e4b4e57b-371a-483d-8ca2-634de77997e9",
   "metadata": {},
   "outputs": [],
   "source": [
    "# Q6. What is a complex number in mathematics, and how is it represented in Python?"
   ]
  },
  {
   "cell_type": "code",
   "execution_count": 14,
   "id": "4bb3b576-60f0-42ea-8678-e446835f0dc9",
   "metadata": {},
   "outputs": [
    {
     "data": {
      "text/plain": [
       "(2+4j)"
      ]
     },
     "execution_count": 14,
     "metadata": {},
     "output_type": "execute_result"
    }
   ],
   "source": [
    "\"\"\" \n",
    "Complex numbers are the numbers that are expressed in the form of a+ib where, a,b are real numbers and 'i' is an imaginary number called “iota”\n",
    "\n",
    "The complex() function returns a complex number by specifying a real number and an imaginary number.\n",
    "complex(real, imaginary)\n",
    "\n",
    "\"\"\"\n",
    "complex(2,4)"
   ]
  },
  {
   "cell_type": "code",
   "execution_count": 15,
   "id": "ea3620db-1305-4ba0-8ad9-cd5d5c9d22ed",
   "metadata": {},
   "outputs": [],
   "source": [
    "# Q7. What is the correct way to declare a variable named age and assign the value 25 to it?"
   ]
  },
  {
   "cell_type": "code",
   "execution_count": 16,
   "id": "f792de7c-0195-4d33-a05b-ef2056e02037",
   "metadata": {},
   "outputs": [
    {
     "name": "stdout",
     "output_type": "stream",
     "text": [
      "25\n"
     ]
    }
   ],
   "source": [
    "age = 25\n",
    "print(age)"
   ]
  },
  {
   "cell_type": "code",
   "execution_count": 17,
   "id": "f3a58a4f-69e3-444f-9ff2-681698816271",
   "metadata": {},
   "outputs": [],
   "source": [
    "# Q8. Declare a variable named price and assign the value 9.99 to it. What data type does this variable belong to?"
   ]
  },
  {
   "cell_type": "code",
   "execution_count": 18,
   "id": "e2aee8ef-c24c-4bc3-8497-b5d9205adbb0",
   "metadata": {},
   "outputs": [],
   "source": [
    "price = 9.99"
   ]
  },
  {
   "cell_type": "code",
   "execution_count": 19,
   "id": "bd27f850-9096-4686-b2ec-baf2b2cd4742",
   "metadata": {},
   "outputs": [
    {
     "data": {
      "text/plain": [
       "float"
      ]
     },
     "execution_count": 19,
     "metadata": {},
     "output_type": "execute_result"
    }
   ],
   "source": [
    "type(price)"
   ]
  },
  {
   "cell_type": "code",
   "execution_count": 20,
   "id": "124df109-a568-48fc-8cfb-cd3bdea5a11c",
   "metadata": {},
   "outputs": [],
   "source": [
    "# Q9. Create a variable named name and assign your full name to it as a string. How would you print the value of this variable?"
   ]
  },
  {
   "cell_type": "code",
   "execution_count": 21,
   "id": "356fd553-d095-49df-b557-6c1cbc565d8a",
   "metadata": {},
   "outputs": [],
   "source": [
    "name = 'Pankaj Vatwani'"
   ]
  },
  {
   "cell_type": "code",
   "execution_count": 22,
   "id": "fcb6f018-a0a9-4465-927c-a4dd8b7079a5",
   "metadata": {},
   "outputs": [
    {
     "name": "stdout",
     "output_type": "stream",
     "text": [
      "Pankaj Vatwani\n"
     ]
    }
   ],
   "source": [
    "print(name)"
   ]
  },
  {
   "cell_type": "code",
   "execution_count": 23,
   "id": "b829a5e4-26eb-41d2-8383-81e03abe6110",
   "metadata": {},
   "outputs": [],
   "source": [
    "# Q10. Given the string \"Hello, World!\", extract the substring \"World\"."
   ]
  },
  {
   "cell_type": "code",
   "execution_count": 24,
   "id": "adf6cc0b-8df5-46ce-841f-31b396c86d8e",
   "metadata": {},
   "outputs": [],
   "source": [
    "name =  \"Hello, World!\""
   ]
  },
  {
   "cell_type": "code",
   "execution_count": 25,
   "id": "68c5a9f4-9c04-44a9-96d1-33cf4808a436",
   "metadata": {},
   "outputs": [
    {
     "data": {
      "text/plain": [
       "'World'"
      ]
     },
     "execution_count": 25,
     "metadata": {},
     "output_type": "execute_result"
    }
   ],
   "source": [
    "name[7:12]"
   ]
  },
  {
   "cell_type": "code",
   "execution_count": 26,
   "id": "6b8cc0ac-630f-447f-ab2b-fc757bd9da8d",
   "metadata": {},
   "outputs": [],
   "source": [
    "# Q11. Create a variable named \"is_student\" and assign it a boolean value indicating whether you are currently a student or not."
   ]
  },
  {
   "cell_type": "code",
   "execution_count": 27,
   "id": "ed341315-6c9a-40a3-aef0-4da937382064",
   "metadata": {},
   "outputs": [],
   "source": [
    "is_student = False"
   ]
  },
  {
   "cell_type": "code",
   "execution_count": 28,
   "id": "6fbbb147-56f4-41a2-a1ae-87abdc6e1102",
   "metadata": {},
   "outputs": [
    {
     "name": "stdout",
     "output_type": "stream",
     "text": [
      "False\n"
     ]
    }
   ],
   "source": [
    "print(is_student)"
   ]
  },
  {
   "cell_type": "code",
   "execution_count": null,
   "id": "b0f87f66-b0e2-4a6b-ab40-7eec8d20a75a",
   "metadata": {},
   "outputs": [],
   "source": []
  }
 ],
 "metadata": {
  "kernelspec": {
   "display_name": "Python 3 (ipykernel)",
   "language": "python",
   "name": "python3"
  },
  "language_info": {
   "codemirror_mode": {
    "name": "ipython",
    "version": 3
   },
   "file_extension": ".py",
   "mimetype": "text/x-python",
   "name": "python",
   "nbconvert_exporter": "python",
   "pygments_lexer": "ipython3",
   "version": "3.10.8"
  }
 },
 "nbformat": 4,
 "nbformat_minor": 5
}
